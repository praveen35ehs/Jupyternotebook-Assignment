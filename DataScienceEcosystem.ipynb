{
 "cells": [
  {
   "cell_type": "markdown",
   "id": "3e1d89b8-718d-4533-b266-b295b03a07f8",
   "metadata": {},
   "source": [
    "# Data Science Tools and Ecosystem"
   ]
  },
  {
   "cell_type": "markdown",
   "id": "f8e88b56-d8a8-4b66-aa49-8a86220a5faf",
   "metadata": {},
   "source": [
    "In this notebook, Data Science Tools and Ecosystem are summarized."
   ]
  },
  {
   "cell_type": "markdown",
   "id": "203c9179-0550-4234-b6b8-f9cb6743ad91",
   "metadata": {},
   "source": [
    "## Objectives:\n",
    "* Python\n",
    "* Git/GitHub\n",
    "* Machine Learning Models\n",
    "* RStudio "
   ]
  },
  {
   "cell_type": "markdown",
   "id": "95575ea6-20dc-41b3-bd63-d1f9474e10b0",
   "metadata": {},
   "source": [
    "Some of the popular languages that Data Scientists use are:"
   ]
  },
  {
   "cell_type": "markdown",
   "id": "14cd1ee6-d032-4e4c-aa9c-eaa6e13955c3",
   "metadata": {},
   "source": [
    "1. Python\n",
    "2. R\n",
    "3. SQL"
   ]
  },
  {
   "cell_type": "markdown",
   "id": "6a1e8f1c-4eec-4de3-a8b8-7a625d877895",
   "metadata": {},
   "source": [
    "Some of the commonly used libraries used by Data Scientists include:"
   ]
  },
  {
   "cell_type": "markdown",
   "id": "aa7a29c8-e0e1-41ab-86e0-9add3794bbc5",
   "metadata": {},
   "source": [
    "* Numpy\n",
    "* Matplotlib\n",
    "* Pandas"
   ]
  },
  {
   "cell_type": "markdown",
   "id": "28661efb-dd83-4940-92cf-72749488b44c",
   "metadata": {},
   "source": [
    "|Data Science Tools|\n",
    "|------------------|\n",
    "|Jupyter Notebook|\n",
    "|RStudio|\n",
    "|Visual Studio Code|"
   ]
  },
  {
   "cell_type": "markdown",
   "id": "a20a611d-957c-4c2b-b70b-36e5b32881cf",
   "metadata": {},
   "source": [
    "### Below are a few examples of evaluating arithmetic expressions in Python"
   ]
  },
  {
   "cell_type": "code",
   "execution_count": 13,
   "id": "984a9e82-2de3-4218-9ea3-7b098d261005",
   "metadata": {},
   "outputs": [
    {
     "data": {
      "text/plain": [
       "17"
      ]
     },
     "execution_count": 13,
     "metadata": {},
     "output_type": "execute_result"
    }
   ],
   "source": [
    "(3*4)+5\n",
    "#This a simple arithmetic expression to mutiply then add integers"
   ]
  },
  {
   "cell_type": "code",
   "execution_count": 14,
   "id": "74e8c3e1-ad0a-47c9-8db1-94a1f47c04a8",
   "metadata": {},
   "outputs": [
    {
     "data": {
      "text/plain": [
       "3.3333333333333335"
      ]
     },
     "execution_count": 14,
     "metadata": {},
     "output_type": "execute_result"
    }
   ],
   "source": [
    "(200/60)\n",
    "#This will convert 200 minutes to hours by diving by 60"
   ]
  },
  {
   "cell_type": "markdown",
   "id": "a9b50cf0-334c-429b-a5e8-5261a66034b3",
   "metadata": {},
   "source": [
    "## Author \n",
    "Praveen Geevarghese"
   ]
  },
  {
   "cell_type": "code",
   "execution_count": null,
   "id": "3c99a809-6a70-45b9-aed0-984f891cca49",
   "metadata": {},
   "outputs": [],
   "source": [
    "https://github.com/praveen35ehs/Jupyternotebook-Assignment"
   ]
  }
 ],
 "metadata": {
  "kernelspec": {
   "display_name": "Python 3 (ipykernel)",
   "language": "python",
   "name": "python3"
  },
  "language_info": {
   "codemirror_mode": {
    "name": "ipython",
    "version": 3
   },
   "file_extension": ".py",
   "mimetype": "text/x-python",
   "name": "python",
   "nbconvert_exporter": "python",
   "pygments_lexer": "ipython3",
   "version": "3.12.8"
  }
 },
 "nbformat": 4,
 "nbformat_minor": 5
}
